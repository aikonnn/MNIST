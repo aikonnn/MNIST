{
 "cells": [
  {
   "cell_type": "markdown",
   "id": "31352dfb",
   "metadata": {},
   "source": [
    "## Lab 4 - MNIST\n",
    "\n",
    "For lab 4, you will complete and submit this ipynb to Canvas by the deadline.\n",
    "\n",
    "Please see the posted Fashion-MNIST Jupyter Notebook. You should use it as the guideline to complete this Jupyter Notebook. There are many similarities, except a few places that you need to make modifications.\n",
    "\n",
    "Read the lab description carefully for the instructions. \n"
   ]
  },
  {
   "cell_type": "code",
   "execution_count": 1,
   "id": "73730f39",
   "metadata": {},
   "outputs": [],
   "source": [
    "# All the needed imports\n",
    "import torch\n",
    "from torch import nn\n",
    "from torch.utils.data import DataLoader\n",
    "from torchvision import datasets\n",
    "from torchvision.transforms import ToTensor, Lambda, Compose\n",
    "import matplotlib.pyplot as plt"
   ]
  },
  {
   "cell_type": "code",
   "execution_count": 2,
   "id": "f69ff374",
   "metadata": {},
   "outputs": [],
   "source": [
    "# Download training data from open datasets.\n",
    "training_data = datasets.MNIST(\n",
    "    root=\"data\", #root directory\n",
    "    train=True, #specify as training data\n",
    "    download=True, #download dataset from the internet\n",
    "    transform=ToTensor(), #tronsform to tensors\n",
    ") #load training data\n",
    "\n",
    "# Download test data from open datasets.\n",
    "test_data = datasets.MNIST(\n",
    "    root=\"data\", #root directory\n",
    "    train=False, #specify as test data\n",
    "    download=True, #download dataset from the internet\n",
    "    transform=ToTensor(), #transfrom to tensors\n",
    ") #load test data"
   ]
  },
  {
   "cell_type": "code",
   "execution_count": 3,
   "id": "a5405f4b",
   "metadata": {},
   "outputs": [
    {
     "name": "stdout",
     "output_type": "stream",
     "text": [
      "Shape of X [N, C, H, W]:  torch.Size([64, 1, 28, 28])\n",
      "Shape of y:  torch.Size([64]) torch.int64\n"
     ]
    }
   ],
   "source": [
    "# Create data loaders.\n",
    "batch_size = 64 #specify batch_size\n",
    "\n",
    "train_dataloader = DataLoader(training_data, batch_size=batch_size) #create dataloader from training dataset\n",
    "test_dataloader = DataLoader(test_data, batch_size=batch_size) #create dataloader from testing dataset\n",
    "\n",
    "for X, y in test_dataloader: #print the layout of data in dataloader\n",
    "    print(\"Shape of X [N, C, H, W]: \", X.shape) #X:input -> N:batch_size, C:item per data point, H:height, W:width\n",
    "    print(\"Shape of y: \", y.shape, y.dtype) #Y:labels\n",
    "    break"
   ]
  },
  {
   "cell_type": "code",
   "execution_count": 4,
   "id": "7510e092",
   "metadata": {},
   "outputs": [
    {
     "name": "stdout",
     "output_type": "stream",
     "text": [
      "Using cpu device\n",
      "NeuralNetwork(\n",
      "  (flatten): Flatten(start_dim=1, end_dim=-1)\n",
      "  (linear_relu_stack): Sequential(\n",
      "    (0): Linear(in_features=784, out_features=512, bias=True)\n",
      "    (1): ReLU()\n",
      "    (2): Linear(in_features=512, out_features=512, bias=True)\n",
      "    (3): ReLU()\n",
      "    (4): Linear(in_features=512, out_features=10, bias=True)\n",
      "  )\n",
      ")\n"
     ]
    }
   ],
   "source": [
    "# Get cpu or gpu device for training.\n",
    "device = \"cuda\" if torch.cuda.is_available() else \"cpu\" #let device be cuda, and cpu if not availale\n",
    "print(\"Using {} device\".format(device)) #print the running device\n",
    "\n",
    "# Define an NN model\n",
    "class NeuralNetwork(nn.Module):\n",
    "    def __init__(self):\n",
    "        super(NeuralNetwork, self).__init__() #construct neural network structure\n",
    "        self.flatten = nn.Flatten() #assign a function that converts 2D image of 28*28 dimension to 1D array of 784 pixel values\n",
    "        self.linear_relu_stack = nn.Sequential( #assign function to process data with network layers\n",
    "            nn.Linear(28*28, 512), #apply linear transformation using its stored biases to dataset from (original) 28*28 -> 512 [layer1]\n",
    "            nn.ReLU(), #apply non-linear activations to introduce nonlinearity, help the network learn with wider variety\n",
    "            nn.Linear(512, 512), #apply linear transformation using its stored biases from layer1's output 512->512 [layer2]\n",
    "            nn.ReLU(), #apply non-linear activations to introduce nonlinearity, help the network learn with wider variety\n",
    "            nn.Linear(512, 10) #apply linear transformation using its stored biases from layer2's output to final output 512 _> 10 (final) [layer3]\n",
    "        )\n",
    "\n",
    "    def forward(self, x): #execute operations on input data\n",
    "        x = self.flatten(x) #call previously defined functions: flatten 2D image to 1D array\n",
    "        logits = self.linear_relu_stack(x) #process 1D array with the assigned process (network layers)\n",
    "        return logits #return data\n",
    "\n",
    "model = NeuralNetwork().to(device) #assign nn to specified device\n",
    "print(model) #display model dimensions"
   ]
  },
  {
   "cell_type": "code",
   "execution_count": 5,
   "id": "52632ea3",
   "metadata": {},
   "outputs": [],
   "source": [
    "# Set the loss and optimizer to be used in the next next cell\n",
    "loss_fn = nn.CrossEntropyLoss() #function to calculate degree of inaccuracy\n",
    "optimizer = torch.optim.SGD(model.parameters(), lr=1e-3) #function that reduces error in each training step, algorithm used is SGD (Stochastic Gradient Descent)\n",
    "#1st arg: model parameters\n",
    "#2nd arg:: learning rate"
   ]
  },
  {
   "cell_type": "code",
   "execution_count": 6,
   "id": "6b05ba77",
   "metadata": {},
   "outputs": [],
   "source": [
    "# Define the train and test functions\n",
    "def train(dataloader, model, loss_fn, optimizer):\n",
    "    size = len(dataloader.dataset) #size of training dataset\n",
    "    model.train() #train model\n",
    "    for batch, (X, y) in enumerate(dataloader): #enumerating through data batches\n",
    "        X, y = X.to(device), y.to(device) #for  each batch, load image and label into model\n",
    "\n",
    "        # Compute prediction error\n",
    "        pred = model(X) #get predictions\n",
    "        loss = loss_fn(pred, y) #compare to expected output and calculate loss\n",
    "\n",
    "        # Backpropagation\n",
    "        optimizer.zero_grad() #reset gradients of model parameters\n",
    "        loss.backward() #backpropagate the obtained loss\n",
    "        optimizer.step() #adjust the model parameters by using the gradient collected in the model in the backpropagation\n",
    "\n",
    "        if batch % 100 == 0:\n",
    "            loss, current = loss.item(), batch * len(X) \n",
    "            print(f\"loss: {loss:>7f}  [{current:>5d}/{size:>5d}]\") #print loss in current batch, and current batch\n",
    "\n",
    "def test(dataloader, model, loss_fn):\n",
    "    size = len(dataloader.dataset) #get size of dataset\n",
    "    num_batches = len(dataloader) #get number of batches in testing dataset\n",
    "    model.eval() #evaluate model\n",
    "    test_loss, correct = 0, 0 #initialize loss and correct predictions\n",
    "    with torch.no_grad(): #stops model from changing parameters\n",
    "        for X, y in dataloader: #iterate through dataset\n",
    "            X, y = X.to(device), y.to(device) #feed data input, label to model\n",
    "            pred = model(X) #get model's predictions\n",
    "            test_loss += loss_fn(pred, y).item() #adding to total loss in test\n",
    "            correct += (pred.argmax(1) == y).type(torch.float).sum().item() #add to total correct count\n",
    "    test_loss /= num_batches #get the average loss\n",
    "    correct /= size #get the accuracy\n",
    "    print(f\"Test Error: \\n Accuracy: {(100*correct):>0.1f}%, Avg loss: {test_loss:>8f} \\n\") #print result\n"
   ]
  },
  {
   "cell_type": "code",
   "execution_count": null,
   "id": "0b730117",
   "metadata": {},
   "outputs": [
    {
     "name": "stdout",
     "output_type": "stream",
     "text": [
      "Epoch 1\n",
      "-------------------------------\n",
      "loss: 2.307163  [    0/60000]\n",
      "loss: 2.299387  [ 6400/60000]\n",
      "loss: 2.303373  [12800/60000]\n",
      "loss: 2.290516  [19200/60000]\n",
      "loss: 2.295347  [25600/60000]\n",
      "loss: 2.286076  [32000/60000]\n",
      "loss: 2.266953  [38400/60000]\n",
      "loss: 2.280548  [44800/60000]\n",
      "loss: 2.270001  [51200/60000]\n",
      "loss: 2.254120  [57600/60000]\n",
      "Test Error: \n",
      " Accuracy: 27.7%, Avg loss: 2.259224 \n",
      "\n",
      "Epoch 2\n",
      "-------------------------------\n",
      "loss: 2.258694  [    0/60000]\n",
      "loss: 2.250324  [ 6400/60000]\n",
      "loss: 2.260279  [12800/60000]\n",
      "loss: 2.230336  [19200/60000]\n",
      "loss: 2.242812  [25600/60000]\n",
      "loss: 2.235419  [32000/60000]\n",
      "loss: 2.206584  [38400/60000]\n",
      "loss: 2.232621  [44800/60000]\n",
      "loss: 2.208228  [51200/60000]\n",
      "loss: 2.189519  [57600/60000]\n",
      "Test Error: \n",
      " Accuracy: 52.9%, Avg loss: 2.192913 \n",
      "\n",
      "Epoch 3\n",
      "-------------------------------\n",
      "loss: 2.192996  [    0/60000]\n",
      "loss: 2.179470  [ 6400/60000]\n",
      "loss: 2.197941  [12800/60000]\n",
      "loss: 2.143229  [19200/60000]\n",
      "loss: 2.162090  [25600/60000]\n",
      "loss: 2.153341  [32000/60000]\n",
      "loss: 2.108590  [38400/60000]\n",
      "loss: 2.152537  [44800/60000]\n",
      "loss: 2.106341  [51200/60000]\n",
      "loss: 2.081794  [57600/60000]\n",
      "Test Error: \n",
      " Accuracy: 66.4%, Avg loss: 2.080659 \n",
      "\n",
      "Epoch 4\n",
      "-------------------------------\n",
      "loss: 2.081805  [    0/60000]\n",
      "loss: 2.056613  [ 6400/60000]\n",
      "loss: 2.088560  [12800/60000]\n",
      "loss: 1.996852  [19200/60000]\n",
      "loss: 2.021172  [25600/60000]\n",
      "loss: 2.005740  [32000/60000]\n",
      "loss: 1.938453  [38400/60000]\n",
      "loss: 2.011874  [44800/60000]\n",
      "loss: 1.932403  [51200/60000]\n",
      "loss: 1.894410  [57600/60000]\n",
      "Test Error: \n",
      " Accuracy: 70.7%, Avg loss: 1.886375 \n",
      "\n",
      "Epoch 5\n",
      "-------------------------------\n",
      "loss: 1.892632  [    0/60000]\n",
      "loss: 1.843315  [ 6400/60000]\n",
      "loss: 1.895551  [12800/60000]\n",
      "loss: 1.756409  [19200/60000]\n",
      "loss: 1.781810  [25600/60000]\n",
      "loss: 1.756570  [32000/60000]\n",
      "loss: 1.667881  [38400/60000]\n",
      "loss: 1.782145  [44800/60000]\n",
      "loss: 1.661268  [51200/60000]\n",
      "loss: 1.608848  [57600/60000]\n",
      "Test Error: \n",
      " Accuracy: 73.4%, Avg loss: 1.592144 \n",
      "\n",
      "Epoch 6\n",
      "-------------------------------\n",
      "loss: 1.613237  [    0/60000]\n",
      "loss: 1.532571  [ 6400/60000]\n",
      "loss: 1.603307  [12800/60000]\n",
      "loss: 1.434782  [19200/60000]\n",
      "loss: 1.452612  [25600/60000]\n",
      "loss: 1.428546  [32000/60000]\n",
      "loss: 1.336427  [38400/60000]\n",
      "loss: 1.484181  [44800/60000]\n",
      "loss: 1.347248  [51200/60000]\n",
      "loss: 1.288491  [57600/60000]\n",
      "Test Error: \n",
      " Accuracy: 76.4%, Avg loss: 1.267800 \n",
      "\n",
      "Epoch 7\n",
      "-------------------------------\n",
      "loss: 1.313111  [    0/60000]\n",
      "loss: 1.207063  [ 6400/60000]\n",
      "loss: 1.284302  [12800/60000]\n",
      "loss: 1.132686  [19200/60000]\n",
      "loss: 1.144616  [25600/60000]\n",
      "loss: 1.124225  [32000/60000]\n",
      "loss: 1.047574  [38400/60000]\n",
      "loss: 1.205491  [44800/60000]\n",
      "loss: 1.092750  [51200/60000]\n",
      "loss: 1.032732  [57600/60000]\n"
     ]
    }
   ],
   "source": [
    "# Training the NN model \n",
    "epochs = 20 #specify number of epochs (iteration over dataset)\n",
    "for t in range(epochs): #loop the specified epochs\n",
    "    print(f\"Epoch {t+1}\\n-------------------------------\") #print iteration number\n",
    "    train(train_dataloader, model, loss_fn, optimizer) #train the model\n",
    "    test(test_dataloader, model, loss_fn) #test the model accuracy on each epoch\n",
    "print(\"Done!\") #report after done training\n"
   ]
  },
  {
   "cell_type": "code",
   "execution_count": 8,
   "id": "8b59ba70",
   "metadata": {},
   "outputs": [
    {
     "name": "stdout",
     "output_type": "stream",
     "text": [
      "Saved PyTorch Model State to model.pth\n"
     ]
    }
   ],
   "source": [
    "# Saving the model in a file, we will use it in the next cell\n",
    "torch.save(model.state_dict(), \"model.pth\") #save model to model.pth\n",
    "print(\"Saved PyTorch Model State to model.pth\") #report"
   ]
  },
  {
   "cell_type": "code",
   "execution_count": 9,
   "id": "bf6ddf84",
   "metadata": {},
   "outputs": [
    {
     "name": "stdout",
     "output_type": "stream",
     "text": [
      "Predicted: \"2\", Actual: \"2\"\n",
      "Predicted: \"9\", Actual: \"4\"\n",
      "Predicted: \"2\", Actual: \"2\"\n"
     ]
    }
   ],
   "source": [
    "# Using the model for some testing\n",
    "model = NeuralNetwork() #initialize empty model\n",
    "model.load_state_dict(torch.load(\"model.pth\")) #load trained model into model\n",
    "\n",
    "classes = [\n",
    "    \"0\",\n",
    "    \"1\",\n",
    "    \"2\",\n",
    "    \"3\",\n",
    "    \"4\",\n",
    "    \"5\",\n",
    "    \"6\",\n",
    "    \"7\",\n",
    "    \"8\",\n",
    "    \"9\",\n",
    "] #classes according to label\n",
    "\n",
    "model.eval() #evaluate model \n",
    "x1, y1 = test_data[1][0], test_data[1][1] #get first input of testing dataset in x1, get label in y1\n",
    "with torch.no_grad(): #disable parameter change\n",
    "    pred = model(x1) #get prediction from model\n",
    "    predicted, actual = classes[pred[0].argmax(0)], classes[y1] #get predicted value, and expected value\n",
    "    print(f'Predicted: \"{predicted}\", Actual: \"{actual}\"') #report\n",
    "# Test for at least three test cases\n",
    "\n",
    "#repeat for two more test cases\n",
    "x2, y2 = test_data[24][0], test_data[24][1]\n",
    "with torch.no_grad():\n",
    "    pred = model(x2)\n",
    "    predicted, actual = classes[pred[0].argmax(0)], classes[y2]\n",
    "    print(f'Predicted: \"{predicted}\", Actual: \"{actual}\"')\n",
    "    \n",
    "x3, y3 = test_data[47][0], test_data[47][1]\n",
    "with torch.no_grad():\n",
    "    pred = model(x3)\n",
    "    predicted, actual = classes[pred[0].argmax(0)], classes[y3]\n",
    "    print(f'Predicted: \"{predicted}\", Actual: \"{actual}\"')"
   ]
  },
  {
   "cell_type": "code",
   "execution_count": 10,
   "id": "06b43a65",
   "metadata": {},
   "outputs": [
    {
     "data": {
      "text/plain": [
       "<matplotlib.image.AxesImage at 0x27cfa3ee160>"
      ]
     },
     "execution_count": 10,
     "metadata": {},
     "output_type": "execute_result"
    },
    {
     "data": {
      "image/png": "[encoded data removed]",
      "text/plain": [
       "<Figure size 640x480 with 1 Axes>"
      ]
     },
     "metadata": {},
     "output_type": "display_data"
    }
   ],
   "source": [
    "# Plot the test images used in the previous cell\n",
    "#plot image from dataset\n",
    "plt.imshow(test_data[1][0].squeeze(), cmap = \"gray\")\n",
    "\n"
   ]
  },
  {
   "cell_type": "code",
   "execution_count": 11,
   "id": "7e75b25d",
   "metadata": {},
   "outputs": [
    {
     "data": {
      "text/plain": [
       "<matplotlib.image.AxesImage at 0x27c800b69a0>"
      ]
     },
     "execution_count": 11,
     "metadata": {},
     "output_type": "execute_result"
    },
    {
     "data": {
      "image/png": "[encoded data removed]",
      "text/plain": [
       "<Figure size 640x480 with 1 Axes>"
      ]
     },
     "metadata": {},
     "output_type": "display_data"
    }
   ],
   "source": [
    "# Include more testing and visualization here\n",
    "plt.imshow(test_data[24][0].squeeze(), cmap = \"gray\")\n"
   ]
  },
  {
   "cell_type": "code",
   "execution_count": 12,
   "id": "4231ef2c",
   "metadata": {},
   "outputs": [
    {
     "data": {
      "text/plain": [
       "<matplotlib.image.AxesImage at 0x27c8012a340>"
      ]
     },
     "execution_count": 12,
     "metadata": {},
     "output_type": "execute_result"
    },
    {
     "data": {
      "image/png": "[encoded data removed]",
      "text/plain": [
       "<Figure size 640x480 with 1 Axes>"
      ]
     },
     "metadata": {},
     "output_type": "display_data"
    }
   ],
   "source": [
    "plt.imshow(test_data[47][0].squeeze(), cmap = \"gray\")"
   ]
  },
  {
   "cell_type": "code",
   "execution_count": null,
   "id": "a24f655f",
   "metadata": {},
   "outputs": [],
   "source": []
  }
 ],
 "metadata": {
  "kernelspec": {
   "display_name": "Python 3 (ipykernel)",
   "language": "python",
   "name": "python3"
  },
  "language_info": {
   "codemirror_mode": {
    "name": "ipython",
    "version": 3
   },
   "file_extension": ".py",
   "mimetype": "text/x-python",
   "name": "python",
   "nbconvert_exporter": "python",
   "pygments_lexer": "ipython3",
   "version": "3.9.13"
  }
 },
 "nbformat": 4,
 "nbformat_minor": 5
}
